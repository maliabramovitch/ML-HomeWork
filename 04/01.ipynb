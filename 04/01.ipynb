{
 "cells": [
  {
   "cell_type": "code",
   "id": "initial_id",
   "metadata": {
    "collapsed": true,
    "jupyter": {
     "is_executing": true
    }
   },
   "source": [
    "import numpy as np\n",
    "import pandas as pd\n",
    "import scipy.io as sio\n",
    "import tensorflow as tf\n",
    "from tensorflow import keras\n",
    "import matplotlib.pyplot as plt\n",
    "from tensorflow.keras.optimizers import Adam\n",
    "from sklearn.model_selection import train_test_split"
   ],
   "outputs": [],
   "execution_count": null
  },
  {
   "metadata": {
    "jupyter": {
     "is_executing": true
    }
   },
   "cell_type": "code",
   "source": "# 1.a",
   "id": "e817671013bfe531",
   "outputs": [],
   "execution_count": null
  },
  {
   "metadata": {
    "jupyter": {
     "is_executing": true
    }
   },
   "cell_type": "code",
   "source": "df = pd.read_excel('face_data.xlsx')",
   "id": "d405e9e4f564c3a2",
   "outputs": [],
   "execution_count": null
  },
  {
   "metadata": {
    "jupyter": {
     "is_executing": true
    }
   },
   "cell_type": "code",
   "source": [
    "M = df.to_numpy()\n",
    "M.shape"
   ],
   "id": "e4d5671660ed38b9",
   "outputs": [],
   "execution_count": null
  },
  {
   "metadata": {
    "jupyter": {
     "is_executing": true
    }
   },
   "cell_type": "code",
   "source": [
    "MT = M.T\n",
    "MT.shape"
   ],
   "id": "15e397403a57670a",
   "outputs": [],
   "execution_count": null
  },
  {
   "metadata": {
    "jupyter": {
     "is_executing": true
    }
   },
   "cell_type": "code",
   "source": [
    "X = MT[:-1, 1000:5000]\n",
    "X.shape"
   ],
   "id": "d8c712d2f2bca9dd",
   "outputs": [],
   "execution_count": null
  },
  {
   "metadata": {
    "jupyter": {
     "is_executing": true
    }
   },
   "cell_type": "code",
   "source": [
    "Y = MT[784, 1000:5000]\n",
    "Y[Y == -1] = 0\n",
    "Y = Y.reshape(1, Y.shape[0])\n",
    "Y.shape"
   ],
   "id": "11886999bf21d058",
   "outputs": [],
   "execution_count": null
  },
  {
   "metadata": {
    "jupyter": {
     "is_executing": true
    }
   },
   "cell_type": "code",
   "source": [
    "def plot_25_images(tags):\n",
    "    indices = np.where(Y == tags)[1]\n",
    "    selected_indices = np.random.choice(indices, 25, replace=False)\n",
    "\n",
    "    num_images = 25\n",
    "\n",
    "    plt.figure(figsize=(10, 10))\n",
    "\n",
    "    for i in range(num_images):\n",
    "        plt.subplot(5, 5, i + 1)\n",
    "        plt.imshow(images[selected_indices[i], :, :], cmap='gray')\n",
    "        plt.title(\"Image: \" + str(selected_indices[i]))\n",
    "        plt.axis('off')\n",
    "\n",
    "    plt.suptitle(\"Sample Face Images\", fontsize=20)\n",
    "    plt.tight_layout()\n",
    "    plt.subplots_adjust(top=0.95)\n",
    "    plt.show()"
   ],
   "id": "ff0b5d5923d94119",
   "outputs": [],
   "execution_count": null
  },
  {
   "metadata": {
    "jupyter": {
     "is_executing": true
    }
   },
   "cell_type": "code",
   "source": "# 1.b",
   "id": "54cefb9f6c0b96fd",
   "outputs": [],
   "execution_count": null
  },
  {
   "metadata": {
    "jupyter": {
     "is_executing": true
    }
   },
   "cell_type": "code",
   "source": [
    "images = M[1000:5000, :-1].reshape((X.shape[1], 28, 28))\n",
    "images = np.rot90(images, k=-1, axes=(1, 2))"
   ],
   "id": "aa64350b7fb60008",
   "outputs": [],
   "execution_count": null
  },
  {
   "metadata": {
    "jupyter": {
     "is_executing": true
    }
   },
   "cell_type": "code",
   "source": "# 1.c",
   "id": "5f06a2420db746f6",
   "outputs": [],
   "execution_count": null
  },
  {
   "metadata": {
    "jupyter": {
     "is_executing": true
    }
   },
   "cell_type": "code",
   "source": "plot_25_images(1)",
   "id": "af4c7ae62f67fc62",
   "outputs": [],
   "execution_count": null
  },
  {
   "metadata": {
    "jupyter": {
     "is_executing": true
    }
   },
   "cell_type": "code",
   "source": "plot_25_images(0)",
   "id": "9fc393f9ae7b10fd",
   "outputs": [],
   "execution_count": null
  },
  {
   "metadata": {
    "jupyter": {
     "is_executing": true
    }
   },
   "cell_type": "code",
   "source": [
    "\n",
    "# 1.d"
   ],
   "id": "33b9682360d801d3",
   "outputs": [],
   "execution_count": null
  },
  {
   "metadata": {
    "jupyter": {
     "is_executing": true
    }
   },
   "cell_type": "code",
   "source": [
    "def build_model(layers_size, layers_activation, alpha, regu_lambda):\n",
    "    model = keras.Sequential()\n",
    "    for i, function in enumerate(layers_activation):\n",
    "        model.add(keras.layers.Dense(layers_size[i], activation=function,\n",
    "                                     kernel_regularizer=keras.regularizers.l2(regu_lambda)))\n",
    "    opt = keras.optimizers.Adam(learning_rate=alpha)\n",
    "    model.compile(optimizer=opt, loss='binary_crossentropy', metrics=['accuracy'])\n",
    "    return model"
   ],
   "id": "db00ec778e325fc2",
   "outputs": [],
   "execution_count": null
  },
  {
   "metadata": {
    "jupyter": {
     "is_executing": true
    }
   },
   "cell_type": "code",
   "source": "# 1.e",
   "id": "cd3206462a9e0d5e",
   "outputs": [],
   "execution_count": null
  },
  {
   "metadata": {
    "jupyter": {
     "is_executing": true
    }
   },
   "cell_type": "code",
   "source": [
    "X_train, X_val, y_train, y_val = train_test_split(X.T, Y.T, test_size=0.2, random_state=42)\n",
    "\n",
    "hidden_units_options = [[32, 1], [64, 1], [128, 1]]\n",
    "alpha_options = [0.001, 0.01, 0.1]\n",
    "reg_options = [0.001, 0.01, 0.1]\n",
    "\n",
    "best_accuracy_1 = 0\n",
    "params_1 = []\n",
    "best_params_1 = {}\n",
    "best_model_1 = 0\n",
    "\n",
    "for hidden in hidden_units_options:\n",
    "    for alpha in alpha_options:\n",
    "        for reg in reg_options:\n",
    "            model = build_model(hidden, ['relu', 'sigmoid'], alpha, reg)\n",
    "            model.fit(X_train, y_train, epochs=10, batch_size=32, validation_data=(X_val, y_val), verbose=0)\n",
    "            _, accuracy = model.evaluate(X_val, y_val, verbose=0)\n",
    "            carr_params = {'Hidden Units': hidden, 'Alpha': alpha, 'Reg': reg, 'Accuracy': accuracy}\n",
    "            params_1.append(carr_params)\n",
    "            if accuracy > best_accuracy_1:\n",
    "                best_model_1 = model\n",
    "                best_accuracy_1 = accuracy\n",
    "                best_params_1 = carr_params\n",
    "\n",
    "print(\"Parameters and Accuracy: \")\n",
    "for param in params_1:\n",
    "    print(f'\\t- {param}')\n",
    "print(\"Best parameters:\", best_params_1)"
   ],
   "id": "ce02891b21471472",
   "outputs": [],
   "execution_count": null
  },
  {
   "metadata": {
    "jupyter": {
     "is_executing": true
    }
   },
   "cell_type": "code",
   "source": "# 1.f",
   "id": "be9b4fa88d9ca3b2",
   "outputs": [],
   "execution_count": null
  },
  {
   "metadata": {
    "jupyter": {
     "is_executing": true
    }
   },
   "cell_type": "code",
   "source": [
    "X_face_test = sio.loadmat('face_test.mat')\n",
    "\n",
    "Xtest = X_face_test['Xtest']\n",
    "\n",
    "ytest = X_face_test['ytest']\n",
    "ytest = ytest.reshape(-1)\n",
    "ytest[ytest == -1] = 0"
   ],
   "id": "bcc8308676ad242b",
   "outputs": [],
   "execution_count": null
  },
  {
   "metadata": {
    "jupyter": {
     "is_executing": true
    }
   },
   "cell_type": "code",
   "source": [
    "test_loss, test_acc = best_model_1.evaluate(Xtest, ytest)\n",
    "print('Test accuracy =', test_acc)"
   ],
   "id": "4dcaf64cb5187630",
   "outputs": [],
   "execution_count": null
  },
  {
   "metadata": {
    "jupyter": {
     "is_executing": true
    }
   },
   "cell_type": "code",
   "source": "# 1.g",
   "id": "b6d188ff85d31ec3",
   "outputs": [],
   "execution_count": null
  },
  {
   "metadata": {
    "jupyter": {
     "is_executing": true
    }
   },
   "cell_type": "code",
   "source": [
    "hidden_units_options = [32, 64, 128]\n",
    "alpha_options = [0.001, 0.01, 0.1]\n",
    "reg_options = [0.001, 0.01, 0.1]\n",
    "\n",
    "best_accuracy_2 = 0\n",
    "params_2 = []\n",
    "best_params_2 = {}\n",
    "best_model_2 = 0\n",
    "\n",
    "for hidden1 in hidden_units_options:\n",
    "    for alpha in alpha_options:\n",
    "        for reg in reg_options:\n",
    "            for hidden2 in hidden_units_options:\n",
    "                hiddens = [hidden1, hidden2, 1]\n",
    "                model = build_model(hiddens, ['relu', 'relu', 'sigmoid'], alpha, reg)\n",
    "                model.fit(X_train, y_train, epochs=10, batch_size=32, validation_data=(X_val, y_val), verbose=0)\n",
    "                _, accuracy = model.evaluate(X_val, y_val, verbose=0)\n",
    "                carr_params = {'Hidden Units': hiddens, 'Alpha': alpha, 'Reg': reg, 'Accuracy': accuracy}\n",
    "                params_2.append(carr_params)\n",
    "                if accuracy > best_accuracy_2:\n",
    "                    best_model_2 = model\n",
    "                    best_accuracy_2 = accuracy\n",
    "                    best_params_2 = carr_params\n",
    "\n",
    "print(\"Parameters and Accuracy: \")\n",
    "for param in params_2:\n",
    "    print(f'\\t- {param}')\n",
    "print(\"Best parameters:\", best_params_2)"
   ],
   "id": "77601dc88091a996",
   "outputs": [],
   "execution_count": null
  },
  {
   "metadata": {
    "jupyter": {
     "is_executing": true
    }
   },
   "cell_type": "code",
   "source": "# 1.f",
   "id": "a4b43adc2f280de6",
   "outputs": [],
   "execution_count": null
  },
  {
   "metadata": {
    "jupyter": {
     "is_executing": true
    }
   },
   "cell_type": "code",
   "source": [
    "hiddens_3 = [64, 1]\n",
    "\n",
    "alpha_options = [0.001, 0.01, 0.1]\n",
    "reg_options = [0.001, 0.01, 0.1]\n",
    "\n",
    "best_accuracy_3 = 0\n",
    "params_3 = []\n",
    "best_params_3 = {}\n",
    "best_model_3 = 0\n",
    "\n",
    "for alpha in alpha_options:\n",
    "    for reg in reg_options:\n",
    "        model = build_model(hiddens_3, ['relu', 'sigmoid'], alpha, reg)\n",
    "        model.fit(X_train, y_train, epochs=10, batch_size=32, validation_data=(X_val, y_val), verbose=0)\n",
    "        _, accuracy = model.evaluate(X_val, y_val, verbose=0)\n",
    "        carr_params = {'Hidden Units': hiddens_3, 'Alpha': alpha, 'Reg': reg, 'Accuracy': accuracy}\n",
    "        params_3.append(carr_params)\n",
    "        if accuracy > best_accuracy_3:\n",
    "            best_model_3 = model\n",
    "            best_accuracy_3 = accuracy\n",
    "            best_params_3 = carr_params\n",
    "\n",
    "print(\"Parameters and Accuracy with 1 hidden: \")\n",
    "for param in params_3:\n",
    "    print(f'\\t- {param}')\n",
    "print(\"Best parameters:\", best_params_3)"
   ],
   "id": "59fb3abca8e6cfa2",
   "outputs": [],
   "execution_count": null
  },
  {
   "metadata": {
    "jupyter": {
     "is_executing": true
    }
   },
   "cell_type": "code",
   "source": [
    "hiddens_4 = [16, 16, 16, 8, 8, 1]\n",
    "\n",
    "alpha_options = [0.001, 0.01, 0.1]\n",
    "reg_options = [0.001, 0.01, 0.1]\n",
    "\n",
    "best_accuracy_4 = 0\n",
    "params_4 = []\n",
    "best_params_4 = {}\n",
    "best_model_4 = 0\n",
    "\n",
    "for alpha in alpha_options:\n",
    "    for reg in reg_options:\n",
    "        model = build_model(hiddens_4, ['relu', 'relu', 'relu', 'relu', 'relu', 'sigmoid'], alpha, reg)\n",
    "        model.fit(X_train, y_train, epochs=10, batch_size=32, validation_data=(X_val, y_val), verbose=0)\n",
    "        _, accuracy = model.evaluate(X_val, y_val, verbose=0)\n",
    "        carr_params = {'Hidden Units': hiddens_3, 'Alpha': alpha, 'Reg': reg, 'Accuracy': accuracy}\n",
    "        params_4.append(carr_params)\n",
    "        if accuracy > best_accuracy_4:\n",
    "            best_model_4 = model\n",
    "            best_accuracy_4 = accuracy\n",
    "            best_params_4 = carr_params\n",
    "\n",
    "print(\"Parameters and Accuracy with 3 hidden: \")\n",
    "for param in params_4:\n",
    "    print(f'\\t- {param}')\n",
    "print(\"Best parameters:\", best_params_4)"
   ],
   "id": "995325652c4112b9",
   "outputs": [],
   "execution_count": null
  },
  {
   "metadata": {
    "jupyter": {
     "is_executing": true
    }
   },
   "cell_type": "code",
   "source": [
    "best_acc = '1' if best_params_3['Accuracy'] > best_params_4['Accuracy'] else '5'\n",
    "print(f'The best accuracy is with {best_acc} hidden(s)')"
   ],
   "id": "9769675ae9f6ea37",
   "outputs": [],
   "execution_count": null
  },
  {
   "metadata": {
    "jupyter": {
     "is_executing": true
    }
   },
   "cell_type": "code",
   "source": "# 1.g",
   "id": "18d818c2afc3ff6",
   "outputs": [],
   "execution_count": null
  },
  {
   "metadata": {
    "jupyter": {
     "is_executing": true
    }
   },
   "cell_type": "code",
   "source": [
    "fashion_mnist = tf.keras.datasets.fashion_mnist.load_data()\n",
    "(X_train_full, y_train_full), (X_test, y_test) = fashion_mnist"
   ],
   "id": "1be657ae926c3d0f",
   "outputs": [],
   "execution_count": null
  },
  {
   "metadata": {
    "jupyter": {
     "is_executing": true
    }
   },
   "cell_type": "code",
   "source": [
    "X_train, y_train = X_train_full[:-5000], y_train_full[:-5000]\n",
    "X_valid, y_valid = X_train_full[-5000:], y_train_full[-5000:]\n",
    "\n",
    "print(\"X_train shape =\", X_train.shape)\n",
    "print(\"type of X_train = \", X_train.dtype)\n"
   ],
   "id": "fc9f5639cf2ee229",
   "outputs": [],
   "execution_count": null
  },
  {
   "metadata": {
    "jupyter": {
     "is_executing": true
    }
   },
   "cell_type": "code",
   "source": [
    "# scale the pixel intensities down to 0-1 range by dividing them by 255.0\n",
    "# this also converts them to floats.\n",
    "X_train, X_valid, X_test = X_train / 255., X_valid / 255., X_test / 255.\n",
    "\n",
    "# We will use a list of class names for Fashion MNIST to know the classes    \n",
    "class_names = [\"T-shirt/top\", \"Trouser\", \"Pullover\", \"Dress\", \"Coat\",\n",
    "               \"Sandal\", \"Shirt\", \"Sneaker\", \"Bag\", \"Ankle boot\"]"
   ],
   "id": "85ed95be160e4cca",
   "outputs": [],
   "execution_count": null
  },
  {
   "metadata": {
    "jupyter": {
     "is_executing": true
    }
   },
   "cell_type": "code",
   "source": [
    "# presenting some data\n",
    "num_images = 10\n",
    "\n",
    "plt.figure(figsize=(8, 4))\n",
    "\n",
    "for i in range(num_images):\n",
    "    plt.subplot(2, 5, i + 1)\n",
    "    plt.imshow(X_train[i, :, :], cmap='gray')\n",
    "    plt.title(class_names[y_train[i]])\n",
    "    plt.axis('off')\n",
    "\n",
    "plt.tight_layout()\n",
    "plt.subplots_adjust(top=0.95)\n",
    "plt.show()"
   ],
   "id": "b9875a3115095264",
   "outputs": [],
   "execution_count": null
  },
  {
   "metadata": {
    "jupyter": {
     "is_executing": true
    }
   },
   "cell_type": "code",
   "source": [
    "def build_model_2(sequence, act_functions):\n",
    "    model = keras.Sequential()\n",
    "    for i, act_function in enumerate(act_functions):\n",
    "        model.add(keras.layers.Dense(sequence[i], activation=act_function))\n",
    "    model.compile(optimizer=\"adam\", loss=\"sparse_categorical_crossentropy\",metrics=[\"accuracy\"])\n",
    "    return model"
   ],
   "id": "a8975ea2b8b75e27",
   "outputs": [],
   "execution_count": null
  },
  {
   "metadata": {
    "jupyter": {
     "is_executing": true
    }
   },
   "cell_type": "code",
   "source": [
    "hidden_units_options = [8, 16, 64]\n",
    "activation_func = ['sigmoid', 'softmax']\n",
    "num_output = np.unique(y_train).size\n",
    "\n",
    "best_accuracy_5 = 0\n",
    "params_5 = []\n",
    "best_params_5 = {}\n",
    "best_model_5 = 0\n",
    "\n",
    "X_train = X_train.reshape(X_train.shape[0], -1)\n",
    "X_valid = X_valid.reshape(X_valid.shape[0], -1)\n",
    "X_test = X_test.reshape(X_test.shape[0], -1)\n",
    "\n",
    "\n",
    "for hidden1 in hidden_units_options:\n",
    "    for hidden2 in hidden_units_options:\n",
    "        hidden = [hidden1, hidden2, num_output]\n",
    "        for activation_f in activation_func:\n",
    "            model = build_model_2(hidden, ['relu', 'relu', activation_f])\n",
    "            model.fit(X_train, y_train, epochs=10, batch_size=32, validation_data=(X_valid, y_valid), verbose=0)\n",
    "            _, accuracy = model.evaluate(X_valid, y_valid, verbose=0)\n",
    "            carr_params = {'Activation function': activation_f, 'Hidden Units': hidden, 'Accuracy': accuracy}\n",
    "            params_5.append(carr_params)\n",
    "            if accuracy > best_accuracy_5:\n",
    "                best_model_5 = model\n",
    "                best_accuracy_5 = accuracy\n",
    "                best_params_5 = carr_params"
   ],
   "id": "d19ecc73c14a1451",
   "outputs": [],
   "execution_count": null
  },
  {
   "metadata": {
    "jupyter": {
     "is_executing": true
    }
   },
   "cell_type": "code",
   "source": [
    "_, acc_test = best_model_5.evaluate(X_test, y_test, verbose=0)\n",
    "_, acc_train = best_model_5.evaluate(X_train, y_train, verbose=0)\n",
    "\n",
    "print(f'best model: {best_params_5}')\n",
    "print(f\"Train accuracy: {acc_train}\")\n",
    "print(f\"Validation accuracy: {best_accuracy_5}\")\n",
    "print(f\"Test accuracy: {acc_test}\")"
   ],
   "id": "2ce85eea9f214bf1",
   "outputs": [],
   "execution_count": null
  }
 ],
 "metadata": {
  "kernelspec": {
   "display_name": "Python 3",
   "language": "python",
   "name": "python3"
  },
  "language_info": {
   "codemirror_mode": {
    "name": "ipython",
    "version": 2
   },
   "file_extension": ".py",
   "mimetype": "text/x-python",
   "name": "python",
   "nbconvert_exporter": "python",
   "pygments_lexer": "ipython2",
   "version": "2.7.6"
  }
 },
 "nbformat": 4,
 "nbformat_minor": 5
}
