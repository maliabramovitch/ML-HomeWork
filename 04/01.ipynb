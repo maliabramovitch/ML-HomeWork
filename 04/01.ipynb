{
 "cells": [
  {
   "cell_type": "code",
   "id": "initial_id",
   "metadata": {
    "collapsed": true,
    "ExecuteTime": {
     "end_time": "2024-08-06T14:06:28.369368Z",
     "start_time": "2024-08-06T14:06:28.364526Z"
    }
   },
   "source": [
    "import numpy as np\n",
    "import pandas as pd\n",
    "import scipy.io as sio\n",
    "import tensorflow as tf\n",
    "from tensorflow import keras\n",
    "import matplotlib.pyplot as plt\n",
    "from tensorflow.keras.optimizers import Adam\n",
    "from sklearn.model_selection import train_test_split"
   ],
   "outputs": [],
   "execution_count": 21
  },
  {
   "metadata": {
    "ExecuteTime": {
     "end_time": "2024-08-06T14:06:29.384964Z",
     "start_time": "2024-08-06T14:06:29.380873Z"
    }
   },
   "cell_type": "code",
   "source": "# 1.a",
   "id": "e817671013bfe531",
   "outputs": [],
   "execution_count": 22
  },
  {
   "metadata": {
    "ExecuteTime": {
     "end_time": "2024-08-06T14:06:30.535062Z",
     "start_time": "2024-08-06T14:06:30.422247Z"
    }
   },
   "cell_type": "code",
   "source": "df = pd.read_excel('face_data.xlsx')",
   "id": "d405e9e4f564c3a2",
   "outputs": [
    {
     "ename": "FileNotFoundError",
     "evalue": "[Errno 2] No such file or directory: 'face_data.xlsx'",
     "output_type": "error",
     "traceback": [
      "\u001B[1;31m---------------------------------------------------------------------------\u001B[0m",
      "\u001B[1;31mFileNotFoundError\u001B[0m                         Traceback (most recent call last)",
      "Cell \u001B[1;32mIn[23], line 1\u001B[0m\n\u001B[1;32m----> 1\u001B[0m df \u001B[38;5;241m=\u001B[39m \u001B[43mpd\u001B[49m\u001B[38;5;241;43m.\u001B[39;49m\u001B[43mread_excel\u001B[49m\u001B[43m(\u001B[49m\u001B[38;5;124;43m'\u001B[39;49m\u001B[38;5;124;43mface_data.xlsx\u001B[39;49m\u001B[38;5;124;43m'\u001B[39;49m\u001B[43m)\u001B[49m\n",
      "File \u001B[1;32m~\\AppData\\Local\\Packages\\PythonSoftwareFoundation.Python.3.11_qbz5n2kfra8p0\\LocalCache\\local-packages\\Python311\\site-packages\\pandas\\io\\excel\\_base.py:504\u001B[0m, in \u001B[0;36mread_excel\u001B[1;34m(io, sheet_name, header, names, index_col, usecols, dtype, engine, converters, true_values, false_values, skiprows, nrows, na_values, keep_default_na, na_filter, verbose, parse_dates, date_parser, date_format, thousands, decimal, comment, skipfooter, storage_options, dtype_backend, engine_kwargs)\u001B[0m\n\u001B[0;32m    502\u001B[0m \u001B[38;5;28;01mif\u001B[39;00m \u001B[38;5;129;01mnot\u001B[39;00m \u001B[38;5;28misinstance\u001B[39m(io, ExcelFile):\n\u001B[0;32m    503\u001B[0m     should_close \u001B[38;5;241m=\u001B[39m \u001B[38;5;28;01mTrue\u001B[39;00m\n\u001B[1;32m--> 504\u001B[0m     io \u001B[38;5;241m=\u001B[39m \u001B[43mExcelFile\u001B[49m\u001B[43m(\u001B[49m\n\u001B[0;32m    505\u001B[0m \u001B[43m        \u001B[49m\u001B[43mio\u001B[49m\u001B[43m,\u001B[49m\n\u001B[0;32m    506\u001B[0m \u001B[43m        \u001B[49m\u001B[43mstorage_options\u001B[49m\u001B[38;5;241;43m=\u001B[39;49m\u001B[43mstorage_options\u001B[49m\u001B[43m,\u001B[49m\n\u001B[0;32m    507\u001B[0m \u001B[43m        \u001B[49m\u001B[43mengine\u001B[49m\u001B[38;5;241;43m=\u001B[39;49m\u001B[43mengine\u001B[49m\u001B[43m,\u001B[49m\n\u001B[0;32m    508\u001B[0m \u001B[43m        \u001B[49m\u001B[43mengine_kwargs\u001B[49m\u001B[38;5;241;43m=\u001B[39;49m\u001B[43mengine_kwargs\u001B[49m\u001B[43m,\u001B[49m\n\u001B[0;32m    509\u001B[0m \u001B[43m    \u001B[49m\u001B[43m)\u001B[49m\n\u001B[0;32m    510\u001B[0m \u001B[38;5;28;01melif\u001B[39;00m engine \u001B[38;5;129;01mand\u001B[39;00m engine \u001B[38;5;241m!=\u001B[39m io\u001B[38;5;241m.\u001B[39mengine:\n\u001B[0;32m    511\u001B[0m     \u001B[38;5;28;01mraise\u001B[39;00m \u001B[38;5;167;01mValueError\u001B[39;00m(\n\u001B[0;32m    512\u001B[0m         \u001B[38;5;124m\"\u001B[39m\u001B[38;5;124mEngine should not be specified when passing \u001B[39m\u001B[38;5;124m\"\u001B[39m\n\u001B[0;32m    513\u001B[0m         \u001B[38;5;124m\"\u001B[39m\u001B[38;5;124man ExcelFile - ExcelFile already has the engine set\u001B[39m\u001B[38;5;124m\"\u001B[39m\n\u001B[0;32m    514\u001B[0m     )\n",
      "File \u001B[1;32m~\\AppData\\Local\\Packages\\PythonSoftwareFoundation.Python.3.11_qbz5n2kfra8p0\\LocalCache\\local-packages\\Python311\\site-packages\\pandas\\io\\excel\\_base.py:1563\u001B[0m, in \u001B[0;36mExcelFile.__init__\u001B[1;34m(self, path_or_buffer, engine, storage_options, engine_kwargs)\u001B[0m\n\u001B[0;32m   1561\u001B[0m     ext \u001B[38;5;241m=\u001B[39m \u001B[38;5;124m\"\u001B[39m\u001B[38;5;124mxls\u001B[39m\u001B[38;5;124m\"\u001B[39m\n\u001B[0;32m   1562\u001B[0m \u001B[38;5;28;01melse\u001B[39;00m:\n\u001B[1;32m-> 1563\u001B[0m     ext \u001B[38;5;241m=\u001B[39m \u001B[43minspect_excel_format\u001B[49m\u001B[43m(\u001B[49m\n\u001B[0;32m   1564\u001B[0m \u001B[43m        \u001B[49m\u001B[43mcontent_or_path\u001B[49m\u001B[38;5;241;43m=\u001B[39;49m\u001B[43mpath_or_buffer\u001B[49m\u001B[43m,\u001B[49m\u001B[43m \u001B[49m\u001B[43mstorage_options\u001B[49m\u001B[38;5;241;43m=\u001B[39;49m\u001B[43mstorage_options\u001B[49m\n\u001B[0;32m   1565\u001B[0m \u001B[43m    \u001B[49m\u001B[43m)\u001B[49m\n\u001B[0;32m   1566\u001B[0m     \u001B[38;5;28;01mif\u001B[39;00m ext \u001B[38;5;129;01mis\u001B[39;00m \u001B[38;5;28;01mNone\u001B[39;00m:\n\u001B[0;32m   1567\u001B[0m         \u001B[38;5;28;01mraise\u001B[39;00m \u001B[38;5;167;01mValueError\u001B[39;00m(\n\u001B[0;32m   1568\u001B[0m             \u001B[38;5;124m\"\u001B[39m\u001B[38;5;124mExcel file format cannot be determined, you must specify \u001B[39m\u001B[38;5;124m\"\u001B[39m\n\u001B[0;32m   1569\u001B[0m             \u001B[38;5;124m\"\u001B[39m\u001B[38;5;124man engine manually.\u001B[39m\u001B[38;5;124m\"\u001B[39m\n\u001B[0;32m   1570\u001B[0m         )\n",
      "File \u001B[1;32m~\\AppData\\Local\\Packages\\PythonSoftwareFoundation.Python.3.11_qbz5n2kfra8p0\\LocalCache\\local-packages\\Python311\\site-packages\\pandas\\io\\excel\\_base.py:1419\u001B[0m, in \u001B[0;36minspect_excel_format\u001B[1;34m(content_or_path, storage_options)\u001B[0m\n\u001B[0;32m   1416\u001B[0m \u001B[38;5;28;01mif\u001B[39;00m \u001B[38;5;28misinstance\u001B[39m(content_or_path, \u001B[38;5;28mbytes\u001B[39m):\n\u001B[0;32m   1417\u001B[0m     content_or_path \u001B[38;5;241m=\u001B[39m BytesIO(content_or_path)\n\u001B[1;32m-> 1419\u001B[0m \u001B[38;5;28;01mwith\u001B[39;00m \u001B[43mget_handle\u001B[49m\u001B[43m(\u001B[49m\n\u001B[0;32m   1420\u001B[0m \u001B[43m    \u001B[49m\u001B[43mcontent_or_path\u001B[49m\u001B[43m,\u001B[49m\u001B[43m \u001B[49m\u001B[38;5;124;43m\"\u001B[39;49m\u001B[38;5;124;43mrb\u001B[39;49m\u001B[38;5;124;43m\"\u001B[39;49m\u001B[43m,\u001B[49m\u001B[43m \u001B[49m\u001B[43mstorage_options\u001B[49m\u001B[38;5;241;43m=\u001B[39;49m\u001B[43mstorage_options\u001B[49m\u001B[43m,\u001B[49m\u001B[43m \u001B[49m\u001B[43mis_text\u001B[49m\u001B[38;5;241;43m=\u001B[39;49m\u001B[38;5;28;43;01mFalse\u001B[39;49;00m\n\u001B[0;32m   1421\u001B[0m \u001B[43m\u001B[49m\u001B[43m)\u001B[49m \u001B[38;5;28;01mas\u001B[39;00m handle:\n\u001B[0;32m   1422\u001B[0m     stream \u001B[38;5;241m=\u001B[39m handle\u001B[38;5;241m.\u001B[39mhandle\n\u001B[0;32m   1423\u001B[0m     stream\u001B[38;5;241m.\u001B[39mseek(\u001B[38;5;241m0\u001B[39m)\n",
      "File \u001B[1;32m~\\AppData\\Local\\Packages\\PythonSoftwareFoundation.Python.3.11_qbz5n2kfra8p0\\LocalCache\\local-packages\\Python311\\site-packages\\pandas\\io\\common.py:872\u001B[0m, in \u001B[0;36mget_handle\u001B[1;34m(path_or_buf, mode, encoding, compression, memory_map, is_text, errors, storage_options)\u001B[0m\n\u001B[0;32m    863\u001B[0m         handle \u001B[38;5;241m=\u001B[39m \u001B[38;5;28mopen\u001B[39m(\n\u001B[0;32m    864\u001B[0m             handle,\n\u001B[0;32m    865\u001B[0m             ioargs\u001B[38;5;241m.\u001B[39mmode,\n\u001B[1;32m   (...)\u001B[0m\n\u001B[0;32m    868\u001B[0m             newline\u001B[38;5;241m=\u001B[39m\u001B[38;5;124m\"\u001B[39m\u001B[38;5;124m\"\u001B[39m,\n\u001B[0;32m    869\u001B[0m         )\n\u001B[0;32m    870\u001B[0m     \u001B[38;5;28;01melse\u001B[39;00m:\n\u001B[0;32m    871\u001B[0m         \u001B[38;5;66;03m# Binary mode\u001B[39;00m\n\u001B[1;32m--> 872\u001B[0m         handle \u001B[38;5;241m=\u001B[39m \u001B[38;5;28;43mopen\u001B[39;49m\u001B[43m(\u001B[49m\u001B[43mhandle\u001B[49m\u001B[43m,\u001B[49m\u001B[43m \u001B[49m\u001B[43mioargs\u001B[49m\u001B[38;5;241;43m.\u001B[39;49m\u001B[43mmode\u001B[49m\u001B[43m)\u001B[49m\n\u001B[0;32m    873\u001B[0m     handles\u001B[38;5;241m.\u001B[39mappend(handle)\n\u001B[0;32m    875\u001B[0m \u001B[38;5;66;03m# Convert BytesIO or file objects passed with an encoding\u001B[39;00m\n",
      "\u001B[1;31mFileNotFoundError\u001B[0m: [Errno 2] No such file or directory: 'face_data.xlsx'"
     ]
    }
   ],
   "execution_count": 23
  },
  {
   "metadata": {
    "ExecuteTime": {
     "end_time": "2024-08-06T14:05:54.864274Z",
     "start_time": "2024-08-06T14:05:54.864274Z"
    }
   },
   "cell_type": "code",
   "source": [
    "M = df.to_numpy()\n",
    "M.shape"
   ],
   "id": "e4d5671660ed38b9",
   "outputs": [],
   "execution_count": null
  },
  {
   "metadata": {},
   "cell_type": "code",
   "source": [
    "MT = M.T\n",
    "MT.shape"
   ],
   "id": "15e397403a57670a",
   "outputs": [],
   "execution_count": null
  },
  {
   "metadata": {},
   "cell_type": "code",
   "source": [
    "X = MT[:-1, 1000:5000]\n",
    "X.shape"
   ],
   "id": "d8c712d2f2bca9dd",
   "outputs": [],
   "execution_count": null
  },
  {
   "metadata": {},
   "cell_type": "code",
   "source": [
    "Y = MT[784, 1000:5000]\n",
    "Y[Y == -1] = 0\n",
    "Y = Y.reshape(1, Y.shape[0])\n",
    "Y.shape"
   ],
   "id": "11886999bf21d058",
   "outputs": [],
   "execution_count": null
  },
  {
   "metadata": {},
   "cell_type": "code",
   "source": [
    "def plot_25_images(tags):\n",
    "    indices = np.where(Y == tags)[1]\n",
    "    selected_indices = np.random.choice(indices, 25, replace=False)\n",
    "\n",
    "    num_images = 25\n",
    "\n",
    "    plt.figure(figsize=(10, 10))\n",
    "\n",
    "    for i in range(num_images):\n",
    "        plt.subplot(5, 5, i + 1)\n",
    "        plt.imshow(images[selected_indices[i], :, :], cmap='gray')\n",
    "        plt.title(\"Image: \" + str(selected_indices[i]))\n",
    "        plt.axis('off')\n",
    "\n",
    "    plt.suptitle(\"Sample Face Images\", fontsize=20)\n",
    "    plt.tight_layout()\n",
    "    plt.subplots_adjust(top=0.95)\n",
    "    plt.show()"
   ],
   "id": "ff0b5d5923d94119",
   "outputs": [],
   "execution_count": null
  },
  {
   "metadata": {},
   "cell_type": "code",
   "source": "# 1.b",
   "id": "54cefb9f6c0b96fd",
   "outputs": [],
   "execution_count": null
  },
  {
   "metadata": {},
   "cell_type": "code",
   "source": [
    "images = M[1000:5000, :-1].reshape((X.shape[1], 28, 28))\n",
    "images = np.rot90(images, k=-1, axes=(1, 2))"
   ],
   "id": "aa64350b7fb60008",
   "outputs": [],
   "execution_count": null
  },
  {
   "metadata": {},
   "cell_type": "code",
   "source": "# 1.c",
   "id": "5f06a2420db746f6",
   "outputs": [],
   "execution_count": null
  },
  {
   "metadata": {},
   "cell_type": "code",
   "source": "plot_25_images(1)",
   "id": "af4c7ae62f67fc62",
   "outputs": [],
   "execution_count": null
  },
  {
   "metadata": {
    "ExecuteTime": {
     "end_time": "2024-08-06T14:05:54.891162Z",
     "start_time": "2024-08-06T14:05:54.873273Z"
    }
   },
   "cell_type": "code",
   "source": "plot_25_images(0)",
   "id": "9fc393f9ae7b10fd",
   "outputs": [
    {
     "ename": "NameError",
     "evalue": "name 'plot_25_images' is not defined",
     "output_type": "error",
     "traceback": [
      "\u001B[1;31m---------------------------------------------------------------------------\u001B[0m",
      "\u001B[1;31mNameError\u001B[0m                                 Traceback (most recent call last)",
      "Cell \u001B[1;32mIn[7], line 1\u001B[0m\n\u001B[1;32m----> 1\u001B[0m \u001B[43mplot_25_images\u001B[49m(\u001B[38;5;241m0\u001B[39m)\n",
      "\u001B[1;31mNameError\u001B[0m: name 'plot_25_images' is not defined"
     ]
    }
   ],
   "execution_count": 7
  },
  {
   "metadata": {},
   "cell_type": "code",
   "source": [
    "\n",
    "# 1.d"
   ],
   "id": "33b9682360d801d3",
   "outputs": [],
   "execution_count": null
  },
  {
   "metadata": {
    "ExecuteTime": {
     "end_time": "2024-08-06T14:05:54.948538Z",
     "start_time": "2024-08-06T14:05:54.944179Z"
    }
   },
   "cell_type": "code",
   "source": [
    "def build_model(layers_size, layers_activation, alpha, regu_lambda):\n",
    "    model = keras.Sequential()\n",
    "    for i, function in enumerate(layers_activation):\n",
    "        model.add(keras.layers.Dense(layers_size[i], activation=function,\n",
    "                                     kernel_regularizer=keras.regularizers.l2(regu_lambda)))\n",
    "    opt = keras.optimizers.Adam(learning_rate=alpha)\n",
    "    model.compile(optimizer=opt, loss='binary_crossentropy', metrics=['accuracy'])\n",
    "    return model"
   ],
   "id": "db00ec778e325fc2",
   "outputs": [],
   "execution_count": 8
  },
  {
   "metadata": {
    "ExecuteTime": {
     "end_time": "2024-08-06T14:05:54.999551Z",
     "start_time": "2024-08-06T14:05:54.996880Z"
    }
   },
   "cell_type": "code",
   "source": "# 1.e",
   "id": "cd3206462a9e0d5e",
   "outputs": [],
   "execution_count": 9
  },
  {
   "metadata": {
    "ExecuteTime": {
     "end_time": "2024-08-06T14:05:55.035138Z",
     "start_time": "2024-08-06T14:05:55.008491Z"
    }
   },
   "cell_type": "code",
   "source": [
    "X_train, X_val, y_train, y_val = train_test_split(X.T, Y.T, test_size=0.2, random_state=42)\n",
    "\n",
    "hidden_units_options = [[32, 1], [64, 1], [128, 1]]\n",
    "alpha_options = [0.001, 0.01, 0.1]\n",
    "reg_options = [0.001, 0.01, 0.1]\n",
    "\n",
    "best_accuracy_1 = 0\n",
    "params_1 = []\n",
    "best_params_1 = {}\n",
    "best_model_1 = 0\n",
    "\n",
    "for hidden in hidden_units_options:\n",
    "    for alpha in alpha_options:\n",
    "        for reg in reg_options:\n",
    "            model = build_model(hidden, ['relu', 'sigmoid'], alpha, reg)\n",
    "            model.fit(X_train, y_train, epochs=10, batch_size=32, validation_data=(X_val, y_val), verbose=0)\n",
    "            _, accuracy = model.evaluate(X_val, y_val, verbose=0)\n",
    "            carr_params = {'Hidden Units': hidden, 'Alpha': alpha, 'Reg': reg, 'Accuracy': accuracy}\n",
    "            params_1.append(carr_params)\n",
    "            if accuracy > best_accuracy_1:\n",
    "                best_model_1 = model\n",
    "                best_accuracy_1 = accuracy\n",
    "                best_params_1 = carr_params\n",
    "\n",
    "print(\"Parameters and Accuracy: \")\n",
    "for param in params_1:\n",
    "    print(f'\\t- {param}')\n",
    "print(\"Best parameters:\", best_params_1)"
   ],
   "id": "ce02891b21471472",
   "outputs": [
    {
     "ename": "NameError",
     "evalue": "name 'X' is not defined",
     "output_type": "error",
     "traceback": [
      "\u001B[1;31m---------------------------------------------------------------------------\u001B[0m",
      "\u001B[1;31mNameError\u001B[0m                                 Traceback (most recent call last)",
      "Cell \u001B[1;32mIn[10], line 1\u001B[0m\n\u001B[1;32m----> 1\u001B[0m X_train, X_val, y_train, y_val \u001B[38;5;241m=\u001B[39m train_test_split(\u001B[43mX\u001B[49m\u001B[38;5;241m.\u001B[39mT, Y\u001B[38;5;241m.\u001B[39mT, test_size\u001B[38;5;241m=\u001B[39m\u001B[38;5;241m0.2\u001B[39m, random_state\u001B[38;5;241m=\u001B[39m\u001B[38;5;241m42\u001B[39m)\n\u001B[0;32m      3\u001B[0m hidden_units_options \u001B[38;5;241m=\u001B[39m [[\u001B[38;5;241m32\u001B[39m, \u001B[38;5;241m1\u001B[39m], [\u001B[38;5;241m64\u001B[39m, \u001B[38;5;241m1\u001B[39m], [\u001B[38;5;241m128\u001B[39m, \u001B[38;5;241m1\u001B[39m]]\n\u001B[0;32m      4\u001B[0m alpha_options \u001B[38;5;241m=\u001B[39m [\u001B[38;5;241m0.001\u001B[39m, \u001B[38;5;241m0.01\u001B[39m, \u001B[38;5;241m0.1\u001B[39m]\n",
      "\u001B[1;31mNameError\u001B[0m: name 'X' is not defined"
     ]
    }
   ],
   "execution_count": 10
  },
  {
   "metadata": {
    "ExecuteTime": {
     "end_time": "2024-08-06T14:05:55.037145Z",
     "start_time": "2024-08-06T14:05:55.037145Z"
    }
   },
   "cell_type": "code",
   "source": "# 1.f",
   "id": "be9b4fa88d9ca3b2",
   "outputs": [],
   "execution_count": null
  },
  {
   "metadata": {},
   "cell_type": "code",
   "source": [
    "X_face_test = sio.loadmat('face_test.mat')\n",
    "\n",
    "Xtest = X_face_test['Xtest']\n",
    "\n",
    "ytest = X_face_test['ytest']\n",
    "ytest = ytest.reshape(-1)\n",
    "ytest[ytest == -1] = 0"
   ],
   "id": "bcc8308676ad242b",
   "outputs": [],
   "execution_count": null
  },
  {
   "metadata": {
    "ExecuteTime": {
     "end_time": "2024-08-06T14:05:55.060360Z",
     "start_time": "2024-08-06T14:05:55.042145Z"
    }
   },
   "cell_type": "code",
   "source": [
    "test_loss, test_acc = best_model_1.evaluate(Xtest, ytest)\n",
    "print('Test accuracy =', test_acc)"
   ],
   "id": "4dcaf64cb5187630",
   "outputs": [
    {
     "ename": "NameError",
     "evalue": "name 'best_model_1' is not defined",
     "output_type": "error",
     "traceback": [
      "\u001B[1;31m---------------------------------------------------------------------------\u001B[0m",
      "\u001B[1;31mNameError\u001B[0m                                 Traceback (most recent call last)",
      "Cell \u001B[1;32mIn[11], line 1\u001B[0m\n\u001B[1;32m----> 1\u001B[0m test_loss, test_acc \u001B[38;5;241m=\u001B[39m \u001B[43mbest_model_1\u001B[49m\u001B[38;5;241m.\u001B[39mevaluate(Xtest, ytest)\n\u001B[0;32m      2\u001B[0m \u001B[38;5;28mprint\u001B[39m(\u001B[38;5;124m'\u001B[39m\u001B[38;5;124mTest accuracy =\u001B[39m\u001B[38;5;124m'\u001B[39m, test_acc)\n",
      "\u001B[1;31mNameError\u001B[0m: name 'best_model_1' is not defined"
     ]
    }
   ],
   "execution_count": 11
  },
  {
   "metadata": {
    "ExecuteTime": {
     "end_time": "2024-08-06T14:05:55.062368Z",
     "start_time": "2024-08-06T14:05:55.062368Z"
    }
   },
   "cell_type": "code",
   "source": "# 1.g",
   "id": "b6d188ff85d31ec3",
   "outputs": [],
   "execution_count": null
  },
  {
   "metadata": {
    "ExecuteTime": {
     "end_time": "2024-08-06T14:05:55.221401Z",
     "start_time": "2024-08-06T14:05:55.079369Z"
    }
   },
   "cell_type": "code",
   "source": [
    "hidden_units_options = [32, 64, 128]\n",
    "alpha_options = [0.001, 0.01, 0.1]\n",
    "reg_options = [0.001, 0.01, 0.1]\n",
    "\n",
    "best_accuracy_2 = 0\n",
    "params_2 = []\n",
    "best_params_2 = {}\n",
    "best_model_2 = 0\n",
    "\n",
    "for hidden1 in hidden_units_options:\n",
    "    for alpha in alpha_options:\n",
    "        for reg in reg_options:\n",
    "            for hidden2 in hidden_units_options:\n",
    "                hiddens = [hidden1, hidden2, 1]\n",
    "                model = build_model(hiddens, ['relu', 'relu', 'sigmoid'], alpha, reg)\n",
    "                model.fit(X_train, y_train, epochs=10, batch_size=32, validation_data=(X_val, y_val), verbose=0)\n",
    "                _, accuracy = model.evaluate(X_val, y_val, verbose=0)\n",
    "                carr_params = {'Hidden Units': hiddens, 'Alpha': alpha, 'Reg': reg, 'Accuracy': accuracy}\n",
    "                params_2.append(carr_params)\n",
    "                if accuracy > best_accuracy_2:\n",
    "                    best_model_2 = model\n",
    "                    best_accuracy_2 = accuracy\n",
    "                    best_params_2 = carr_params\n",
    "\n",
    "print(\"Parameters and Accuracy: \")\n",
    "for param in params_2:\n",
    "    print(f'\\t- {param}')\n",
    "print(\"Best parameters:\", best_params_2)"
   ],
   "id": "77601dc88091a996",
   "outputs": [
    {
     "ename": "NameError",
     "evalue": "name 'X_train' is not defined",
     "output_type": "error",
     "traceback": [
      "\u001B[1;31m---------------------------------------------------------------------------\u001B[0m",
      "\u001B[1;31mNameError\u001B[0m                                 Traceback (most recent call last)",
      "Cell \u001B[1;32mIn[12], line 16\u001B[0m\n\u001B[0;32m     14\u001B[0m hiddens \u001B[38;5;241m=\u001B[39m [hidden1, hidden2, \u001B[38;5;241m1\u001B[39m]\n\u001B[0;32m     15\u001B[0m model \u001B[38;5;241m=\u001B[39m build_model(hiddens, [\u001B[38;5;124m'\u001B[39m\u001B[38;5;124mrelu\u001B[39m\u001B[38;5;124m'\u001B[39m, \u001B[38;5;124m'\u001B[39m\u001B[38;5;124mrelu\u001B[39m\u001B[38;5;124m'\u001B[39m, \u001B[38;5;124m'\u001B[39m\u001B[38;5;124msigmoid\u001B[39m\u001B[38;5;124m'\u001B[39m], alpha, reg)\n\u001B[1;32m---> 16\u001B[0m model\u001B[38;5;241m.\u001B[39mfit(\u001B[43mX_train\u001B[49m, y_train, epochs\u001B[38;5;241m=\u001B[39m\u001B[38;5;241m10\u001B[39m, batch_size\u001B[38;5;241m=\u001B[39m\u001B[38;5;241m32\u001B[39m, validation_data\u001B[38;5;241m=\u001B[39m(X_val, y_val), verbose\u001B[38;5;241m=\u001B[39m\u001B[38;5;241m0\u001B[39m)\n\u001B[0;32m     17\u001B[0m _, accuracy \u001B[38;5;241m=\u001B[39m model\u001B[38;5;241m.\u001B[39mevaluate(X_val, y_val, verbose\u001B[38;5;241m=\u001B[39m\u001B[38;5;241m0\u001B[39m)\n\u001B[0;32m     18\u001B[0m carr_params \u001B[38;5;241m=\u001B[39m {\u001B[38;5;124m'\u001B[39m\u001B[38;5;124mHidden Units\u001B[39m\u001B[38;5;124m'\u001B[39m: hiddens, \u001B[38;5;124m'\u001B[39m\u001B[38;5;124mAlpha\u001B[39m\u001B[38;5;124m'\u001B[39m: alpha, \u001B[38;5;124m'\u001B[39m\u001B[38;5;124mReg\u001B[39m\u001B[38;5;124m'\u001B[39m: reg, \u001B[38;5;124m'\u001B[39m\u001B[38;5;124mAccuracy\u001B[39m\u001B[38;5;124m'\u001B[39m: accuracy}\n",
      "\u001B[1;31mNameError\u001B[0m: name 'X_train' is not defined"
     ]
    }
   ],
   "execution_count": 12
  },
  {
   "metadata": {
    "ExecuteTime": {
     "end_time": "2024-08-06T14:05:55.222411Z",
     "start_time": "2024-08-06T14:05:55.222411Z"
    }
   },
   "cell_type": "code",
   "source": "# 1.f",
   "id": "a4b43adc2f280de6",
   "outputs": [],
   "execution_count": null
  },
  {
   "metadata": {},
   "cell_type": "code",
   "source": [
    "hiddens_3 = [64, 1]\n",
    "\n",
    "alpha_options = [0.001, 0.01, 0.1]\n",
    "reg_options = [0.001, 0.01, 0.1]\n",
    "\n",
    "best_accuracy_3 = 0\n",
    "params_3 = []\n",
    "best_params_3 = {}\n",
    "best_model_3 = 0\n",
    "\n",
    "for alpha in alpha_options:\n",
    "    for reg in reg_options:\n",
    "        model = build_model(hiddens_3, ['relu', 'sigmoid'], alpha, reg)\n",
    "        model.fit(X_train, y_train, epochs=10, batch_size=32, validation_data=(X_val, y_val), verbose=0)\n",
    "        _, accuracy = model.evaluate(X_val, y_val, verbose=0)\n",
    "        carr_params = {'Hidden Units': hiddens_3, 'Alpha': alpha, 'Reg': reg, 'Accuracy': accuracy}\n",
    "        params_3.append(carr_params)\n",
    "        if accuracy > best_accuracy_3:\n",
    "            best_model_3 = model\n",
    "            best_accuracy_3 = accuracy\n",
    "            best_params_3 = carr_params\n",
    "\n",
    "print(\"Parameters and Accuracy with 1 hidden: \")\n",
    "for param in params_3:\n",
    "    print(f'\\t- {param}')\n",
    "print(\"Best parameters:\", best_params_3)"
   ],
   "id": "59fb3abca8e6cfa2",
   "outputs": [],
   "execution_count": null
  },
  {
   "metadata": {
    "ExecuteTime": {
     "end_time": "2024-08-06T14:05:55.357369Z",
     "start_time": "2024-08-06T14:05:55.316412Z"
    }
   },
   "cell_type": "code",
   "source": [
    "hiddens_4 = [16, 16, 16, 8, 8, 1]\n",
    "\n",
    "alpha_options = [0.001, 0.01, 0.1]\n",
    "reg_options = [0.001, 0.01, 0.1]\n",
    "\n",
    "best_accuracy_4 = 0\n",
    "params_4 = []\n",
    "best_params_4 = {}\n",
    "best_model_4 = 0\n",
    "\n",
    "for alpha in alpha_options:\n",
    "    for reg in reg_options:\n",
    "        model = build_model(hiddens_4, ['relu', 'relu', 'relu', 'relu', 'relu', 'sigmoid'], alpha, reg)\n",
    "        model.fit(X_train, y_train, epochs=10, batch_size=32, validation_data=(X_val, y_val), verbose=0)\n",
    "        _, accuracy = model.evaluate(X_val, y_val, verbose=0)\n",
    "        carr_params = {'Hidden Units': hiddens_3, 'Alpha': alpha, 'Reg': reg, 'Accuracy': accuracy}\n",
    "        params_4.append(carr_params)\n",
    "        if accuracy > best_accuracy_4:\n",
    "            best_model_4 = model\n",
    "            best_accuracy_4 = accuracy\n",
    "            best_params_4 = carr_params\n",
    "\n",
    "print(\"Parameters and Accuracy with 3 hidden: \")\n",
    "for param in params_4:\n",
    "    print(f'\\t- {param}')\n",
    "print(\"Best parameters:\", best_params_4)"
   ],
   "id": "995325652c4112b9",
   "outputs": [
    {
     "ename": "NameError",
     "evalue": "name 'X_train' is not defined",
     "output_type": "error",
     "traceback": [
      "\u001B[1;31m---------------------------------------------------------------------------\u001B[0m",
      "\u001B[1;31mNameError\u001B[0m                                 Traceback (most recent call last)",
      "Cell \u001B[1;32mIn[13], line 14\u001B[0m\n\u001B[0;32m     12\u001B[0m \u001B[38;5;28;01mfor\u001B[39;00m reg \u001B[38;5;129;01min\u001B[39;00m reg_options:\n\u001B[0;32m     13\u001B[0m     model \u001B[38;5;241m=\u001B[39m build_model(hiddens_4, [\u001B[38;5;124m'\u001B[39m\u001B[38;5;124mrelu\u001B[39m\u001B[38;5;124m'\u001B[39m, \u001B[38;5;124m'\u001B[39m\u001B[38;5;124mrelu\u001B[39m\u001B[38;5;124m'\u001B[39m, \u001B[38;5;124m'\u001B[39m\u001B[38;5;124mrelu\u001B[39m\u001B[38;5;124m'\u001B[39m, \u001B[38;5;124m'\u001B[39m\u001B[38;5;124mrelu\u001B[39m\u001B[38;5;124m'\u001B[39m, \u001B[38;5;124m'\u001B[39m\u001B[38;5;124mrelu\u001B[39m\u001B[38;5;124m'\u001B[39m, \u001B[38;5;124m'\u001B[39m\u001B[38;5;124msigmoid\u001B[39m\u001B[38;5;124m'\u001B[39m], alpha, reg)\n\u001B[1;32m---> 14\u001B[0m     model\u001B[38;5;241m.\u001B[39mfit(\u001B[43mX_train\u001B[49m, y_train, epochs\u001B[38;5;241m=\u001B[39m\u001B[38;5;241m10\u001B[39m, batch_size\u001B[38;5;241m=\u001B[39m\u001B[38;5;241m32\u001B[39m, validation_data\u001B[38;5;241m=\u001B[39m(X_val, y_val), verbose\u001B[38;5;241m=\u001B[39m\u001B[38;5;241m0\u001B[39m)\n\u001B[0;32m     15\u001B[0m     _, accuracy \u001B[38;5;241m=\u001B[39m model\u001B[38;5;241m.\u001B[39mevaluate(X_val, y_val, verbose\u001B[38;5;241m=\u001B[39m\u001B[38;5;241m0\u001B[39m)\n\u001B[0;32m     16\u001B[0m     carr_params \u001B[38;5;241m=\u001B[39m {\u001B[38;5;124m'\u001B[39m\u001B[38;5;124mHidden Units\u001B[39m\u001B[38;5;124m'\u001B[39m: hiddens_3, \u001B[38;5;124m'\u001B[39m\u001B[38;5;124mAlpha\u001B[39m\u001B[38;5;124m'\u001B[39m: alpha, \u001B[38;5;124m'\u001B[39m\u001B[38;5;124mReg\u001B[39m\u001B[38;5;124m'\u001B[39m: reg, \u001B[38;5;124m'\u001B[39m\u001B[38;5;124mAccuracy\u001B[39m\u001B[38;5;124m'\u001B[39m: accuracy}\n",
      "\u001B[1;31mNameError\u001B[0m: name 'X_train' is not defined"
     ]
    }
   ],
   "execution_count": 13
  },
  {
   "metadata": {},
   "cell_type": "code",
   "source": [
    "best_acc = '1' if best_params_3['Accuracy'] > best_params_4['Accuracy'] else '5'\n",
    "print(f'The best accuracy is with {best_acc} hidden(s)')"
   ],
   "id": "9769675ae9f6ea37",
   "outputs": [],
   "execution_count": null
  },
  {
   "metadata": {
    "ExecuteTime": {
     "end_time": "2024-08-06T14:05:55.397867Z",
     "start_time": "2024-08-06T14:05:55.393494Z"
    }
   },
   "cell_type": "code",
   "source": "# 1.g",
   "id": "18d818c2afc3ff6",
   "outputs": [],
   "execution_count": 14
  },
  {
   "metadata": {
    "ExecuteTime": {
     "end_time": "2024-08-06T14:05:55.887137Z",
     "start_time": "2024-08-06T14:05:55.457933Z"
    }
   },
   "cell_type": "code",
   "source": [
    "fashion_mnist = tf.keras.datasets.fashion_mnist.load_data()\n",
    "(X_train_full, y_train_full), (X_test, y_test) = fashion_mnist"
   ],
   "id": "1be657ae926c3d0f",
   "outputs": [],
   "execution_count": 15
  },
  {
   "metadata": {
    "ExecuteTime": {
     "end_time": "2024-08-06T14:05:55.892246Z",
     "start_time": "2024-08-06T14:05:55.888156Z"
    }
   },
   "cell_type": "code",
   "source": [
    "X_train, y_train = X_train_full[:-5000], y_train_full[:-5000]\n",
    "X_valid, y_valid = X_train_full[-5000:], y_train_full[-5000:]\n",
    "\n",
    "print(\"X_train shape =\", X_train.shape)\n",
    "print(\"type of X_train = \", X_train.dtype)\n"
   ],
   "id": "fc9f5639cf2ee229",
   "outputs": [
    {
     "name": "stdout",
     "output_type": "stream",
     "text": [
      "X_train shape = (55000, 28, 28)\n",
      "type of X_train =  uint8\n"
     ]
    }
   ],
   "execution_count": 16
  },
  {
   "metadata": {
    "ExecuteTime": {
     "end_time": "2024-08-06T14:05:56.139324Z",
     "start_time": "2024-08-06T14:05:55.893257Z"
    }
   },
   "cell_type": "code",
   "source": [
    "# scale the pixel intensities down to 0-1 range by dividing them by 255.0\n",
    "# this also converts them to floats.\n",
    "X_train, X_valid, X_test = X_train / 255., X_valid / 255., X_test / 255.\n",
    "\n",
    "# We will use a list of class names for Fashion MNIST to know the classes    \n",
    "class_names = [\"T-shirt/top\", \"Trouser\", \"Pullover\", \"Dress\", \"Coat\",\n",
    "               \"Sandal\", \"Shirt\", \"Sneaker\", \"Bag\", \"Ankle boot\"]"
   ],
   "id": "85ed95be160e4cca",
   "outputs": [],
   "execution_count": 17
  },
  {
   "metadata": {
    "ExecuteTime": {
     "end_time": "2024-08-06T14:05:56.760349Z",
     "start_time": "2024-08-06T14:05:56.142338Z"
    }
   },
   "cell_type": "code",
   "source": [
    "# presenting some data\n",
    "num_images = 10\n",
    "\n",
    "plt.figure(figsize=(8, 4))\n",
    "\n",
    "for i in range(num_images):\n",
    "    plt.subplot(2, 5, i + 1)\n",
    "    plt.imshow(X_train[i, :, :], cmap='gray')\n",
    "    plt.title(class_names[y_train[i]])\n",
    "    plt.axis('off')\n",
    "\n",
    "plt.tight_layout()\n",
    "plt.subplots_adjust(top=0.95)\n",
    "plt.show()"
   ],
   "id": "b9875a3115095264",
   "outputs": [
    {
     "data": {
      "text/plain": [
       "<Figure size 800x400 with 10 Axes>"
      ],
      "image/png": "[encoded data removed]"
     },
     "metadata": {},
     "output_type": "display_data"
    }
   ],
   "execution_count": 18
  },
  {
   "metadata": {
    "ExecuteTime": {
     "end_time": "2024-08-06T14:05:56.768479Z",
     "start_time": "2024-08-06T14:05:56.761365Z"
    }
   },
   "cell_type": "code",
   "source": [
    "def build_model_2(sequence, act_functions):\n",
    "    model = keras.Sequential()\n",
    "    for i, act_function in enumerate(act_functions):\n",
    "        model.add(keras.layers.Dense(sequence[i], activation=act_function))\n",
    "    model.compile(optimizer=\"adam\", loss=\"sparse_categorical_crossentropy\",metrics=[\"accuracy\"])\n",
    "    return model"
   ],
   "id": "a8975ea2b8b75e27",
   "outputs": [],
   "execution_count": 19
  },
  {
   "metadata": {
    "ExecuteTime": {
     "end_time": "2024-08-06T14:06:27.026689Z",
     "start_time": "2024-08-06T14:05:56.770485Z"
    }
   },
   "cell_type": "code",
   "source": [
    "hidden_units_options = [8, 16, 64]\n",
    "activation_func = ['sigmoid', 'softmax']\n",
    "num_output = np.unique(y_train).size\n",
    "\n",
    "best_accuracy_5 = 0\n",
    "params_5 = []\n",
    "best_params_5 = {}\n",
    "best_model_5 = 0\n",
    "\n",
    "X_train = X_train.reshape(X_train.shape[0], -1)\n",
    "X_valid = X_valid.reshape(X_valid.shape[0], -1)\n",
    "X_test = X_test.reshape(X_test.shape[0], -1)\n",
    "\n",
    "\n",
    "for hidden1 in hidden_units_options:\n",
    "    for hidden2 in hidden_units_options:\n",
    "        hidden = [hidden1, hidden2, num_output]\n",
    "        for activation_f in activation_func:\n",
    "            model = build_model_2(hidden, ['relu', 'relu', activation_f])\n",
    "            model.fit(X_train, y_train, epochs=10, batch_size=32, validation_data=(X_valid, y_valid), verbose=0)\n",
    "            _, accuracy = model.evaluate(X_valid, y_valid, verbose=0)\n",
    "            carr_params = {'Activation function': activation_f, 'Hidden Units': hidden, 'Accuracy': accuracy}\n",
    "            params_5.append(carr_params)\n",
    "            if accuracy > best_accuracy_5:\n",
    "                best_model_5 = model\n",
    "                best_accuracy_5 = accuracy\n",
    "                best_params_5 = carr_params"
   ],
   "id": "d19ecc73c14a1451",
   "outputs": [
    {
     "name": "stderr",
     "output_type": "stream",
     "text": [
      "\n",
      "KeyboardInterrupt\n",
      "\n"
     ]
    }
   ],
   "execution_count": 20
  },
  {
   "metadata": {
    "ExecuteTime": {
     "end_time": "2024-08-06T14:06:27.028712Z",
     "start_time": "2024-08-06T14:06:27.028712Z"
    }
   },
   "cell_type": "code",
   "source": [
    "_, acc_test = best_model_5.evaluate(X_test, y_test, verbose=0)\n",
    "_, acc_train = best_model_5.evaluate(X_train, y_train, verbose=0)\n",
    "\n",
    "print(f'best model: {best_params_5}')\n",
    "print(f\"Train accuracy: {acc_train}\")\n",
    "print(f\"Validation accuracy: {best_accuracy_5}\")\n",
    "print(f\"Test accuracy: {acc_test}\")"
   ],
   "id": "2ce85eea9f214bf1",
   "outputs": [],
   "execution_count": null
  },
  {
   "metadata": {},
   "cell_type": "code",
   "source": "",
   "id": "cbf7abf4fc3662db",
   "outputs": [],
   "execution_count": null
  },
  {
   "metadata": {},
   "cell_type": "code",
   "source": "",
   "id": "ae522e4781566454",
   "outputs": [],
   "execution_count": null
  }
 ],
 "metadata": {
  "kernelspec": {
   "display_name": "Python 3",
   "language": "python",
   "name": "python3"
  },
  "language_info": {
   "codemirror_mode": {
    "name": "ipython",
    "version": 2
   },
   "file_extension": ".py",
   "mimetype": "text/x-python",
   "name": "python",
   "nbconvert_exporter": "python",
   "pygments_lexer": "ipython2",
   "version": "2.7.6"
  }
 },
 "nbformat": 4,
 "nbformat_minor": 5
}
